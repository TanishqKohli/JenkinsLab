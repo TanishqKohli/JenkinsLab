{
 "cells": [
  {
   "cell_type": "code",
   "execution_count": null,
   "metadata": {},
   "outputs": [],
   "source": [
    "print(\"SPM - 3 Credits\")\n",
    "print(\"EVS - 3 Credits\")\n",
    "print(\"C_Skils - 1 Credit\")\n",
    "print(\"DevOps - 3 Credits\")"
   ]
  }
 ],
 "metadata": {
  "language_info": {
   "name": "python"
  }
 },
 "nbformat": 4,
 "nbformat_minor": 5
}
