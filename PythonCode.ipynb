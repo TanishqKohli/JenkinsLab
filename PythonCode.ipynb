print("SPM - 3 Credits")
print("EVS - 3 Credits")
print("C_Skils - 1 Credit")
print("DevOps - 3 Credits")
